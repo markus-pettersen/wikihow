{
 "cells": [
  {
   "cell_type": "markdown",
   "id": "7f49b7c3-acc3-43dc-899f-ef7f22de0498",
   "metadata": {},
   "source": [
    "# wikiHow: Topic Modelling and Analysis\n",
    "\n",
    "[wikiHow](https://www.wikihow.com/Main-Page) is a popular online encyclopedia featuring how-to guides across a variety of different topics. This project uses a [Kaggle](https://www.kaggle.com/datasets/elfarouketawil/wikihow-featured-articles) dataset containing around 1,000 featured articles. Each row contains the articles title, introduction paragraph and full article contents. Additionally, we have information about other details such as number of views and authors. is a popular online encyclopedia featuring how-to guides across a variety of different topics.\n",
    "\n",
    "\n",
    "The aim of this anaylsis is to group articles together into similar topics using various NLP and unsupervised machine learning techniques like k-means clustering and NMF. After this, the different characteristics and popularity of each topic can be examined. Finally, we will calculate the pairwise cosine similarity for each vectorized article. We will use this information to construct a graph network with each node being an article and edges linking articles with high semantic similarity. We can then identify relatively important articles in the network and gain more insight into how information is organized in the encyclopedia.\n",
    "\n",
    "This framework has many practical purporse. It can be used to optimize large corpora for NLP tasks, knowledge base management or ciriculum design by identifing redundant aricles and structural gaps in topic maps.\n",
    "\n",
    "## Part 1: Introduction and Vectorization\n",
    "\n",
    "In the first part of this project, we will load and explore the data, preprocess the text by tokenizing, removing stop words and stemming. Next we will apply TF-IDF vectorization, and finally reduce the dimensionality using truncated SVD.\n",
    "\n",
    "**Input**: <code>../raw/data/input/articles.csv</code>\n",
    "\n",
    "**Output**: <code>../data/models/svd_matrix.npy</code> and <code>../data/processing/01_modified_df.csv</code>\n",
    "\n",
    "\n",
    "### Introduction\n",
    "First, load the dataset as a Pandas dataframe and examine the structure of the data:"
   ]
  },
  {
   "cell_type": "code",
   "execution_count": 1,
   "id": "5eb4ec01-0c9b-4fe0-91d4-6aeb9b9866d6",
   "metadata": {},
   "outputs": [
    {
     "data": {
      "text/html": [
       "<div>\n",
       "<style scoped>\n",
       "    .dataframe tbody tr th:only-of-type {\n",
       "        vertical-align: middle;\n",
       "    }\n",
       "\n",
       "    .dataframe tbody tr th {\n",
       "        vertical-align: top;\n",
       "    }\n",
       "\n",
       "    .dataframe thead th {\n",
       "        text-align: right;\n",
       "    }\n",
       "</style>\n",
       "<table border=\"1\" class=\"dataframe\">\n",
       "  <thead>\n",
       "    <tr style=\"text-align: right;\">\n",
       "      <th></th>\n",
       "      <th>Title</th>\n",
       "      <th>Intro</th>\n",
       "      <th>Article Content</th>\n",
       "      <th>Co-authors</th>\n",
       "      <th>Updated</th>\n",
       "      <th>Views</th>\n",
       "    </tr>\n",
       "  </thead>\n",
       "  <tbody>\n",
       "    <tr>\n",
       "      <th>0</th>\n",
       "      <td>How to Perform the Tahajjud Prayer</td>\n",
       "      <td>The Tahajjud is a special Islamic night prayer...</td>\n",
       "      <td>Arrange to wake up after midnight. After prayi...</td>\n",
       "      <td>60</td>\n",
       "      <td>Updated: March 21, 2023</td>\n",
       "      <td>5638718</td>\n",
       "    </tr>\n",
       "    <tr>\n",
       "      <th>1</th>\n",
       "      <td>How to Take a Screenshot on a Windows PC: 8 Si...</td>\n",
       "      <td>Need to take a screenshot on your Windows PC? ...</td>\n",
       "      <td>Go to the screen that you want to capture. Whe...</td>\n",
       "      <td>321</td>\n",
       "      <td>Updated: April 15, 2023</td>\n",
       "      <td>35602414</td>\n",
       "    </tr>\n",
       "    <tr>\n",
       "      <th>2</th>\n",
       "      <td>How to Play Poker</td>\n",
       "      <td>\\nLooking to learn basic poker rules? Poker’s ...</td>\n",
       "      <td>Learn the 10 basic 5-card hands and their rank...</td>\n",
       "      <td>229</td>\n",
       "      <td>Updated: April 12, 2023</td>\n",
       "      <td>7598092</td>\n",
       "    </tr>\n",
       "    <tr>\n",
       "      <th>3</th>\n",
       "      <td>How to French Kiss</td>\n",
       "      <td>\\nYou've seen it done in the movies and probab...</td>\n",
       "      <td>Keep your lips soft. A soft, smooth, and sligh...</td>\n",
       "      <td>287</td>\n",
       "      <td>Updated: December 13, 2022</td>\n",
       "      <td>27872519</td>\n",
       "    </tr>\n",
       "    <tr>\n",
       "      <th>4</th>\n",
       "      <td>How to Kiss</td>\n",
       "      <td>\\nSo you finally got \"the look\" and you're mov...</td>\n",
       "      <td>Drop hints that you're interested. You can put...</td>\n",
       "      <td>309</td>\n",
       "      <td>Updated: April 8, 2023</td>\n",
       "      <td>33291709</td>\n",
       "    </tr>\n",
       "  </tbody>\n",
       "</table>\n",
       "</div>"
      ],
      "text/plain": [
       "                                               Title  \\\n",
       "0                 How to Perform the Tahajjud Prayer   \n",
       "1  How to Take a Screenshot on a Windows PC: 8 Si...   \n",
       "2                                  How to Play Poker   \n",
       "3                                 How to French Kiss   \n",
       "4                                        How to Kiss   \n",
       "\n",
       "                                               Intro  \\\n",
       "0  The Tahajjud is a special Islamic night prayer...   \n",
       "1  Need to take a screenshot on your Windows PC? ...   \n",
       "2  \\nLooking to learn basic poker rules? Poker’s ...   \n",
       "3  \\nYou've seen it done in the movies and probab...   \n",
       "4  \\nSo you finally got \"the look\" and you're mov...   \n",
       "\n",
       "                                     Article Content  Co-authors  \\\n",
       "0  Arrange to wake up after midnight. After prayi...          60   \n",
       "1  Go to the screen that you want to capture. Whe...         321   \n",
       "2  Learn the 10 basic 5-card hands and their rank...         229   \n",
       "3  Keep your lips soft. A soft, smooth, and sligh...         287   \n",
       "4  Drop hints that you're interested. You can put...         309   \n",
       "\n",
       "                      Updated     Views  \n",
       "0     Updated: March 21, 2023   5638718  \n",
       "1     Updated: April 15, 2023  35602414  \n",
       "2     Updated: April 12, 2023   7598092  \n",
       "3  Updated: December 13, 2022  27872519  \n",
       "4      Updated: April 8, 2023  33291709  "
      ]
     },
     "execution_count": 1,
     "metadata": {},
     "output_type": "execute_result"
    }
   ],
   "source": [
    "import pandas as pd\n",
    "import matplotlib.pyplot as plt\n",
    "import numpy as np\n",
    "# NLTK modules:\n",
    "from nltk.tokenize import word_tokenize\n",
    "from nltk.corpus import stopwords\n",
    "from nltk.stem import PorterStemmer\n",
    "# For vectorizing:\n",
    "from sklearn.feature_extraction.text import TfidfVectorizer\n",
    "# For SVD:\n",
    "from sklearn.decomposition import TruncatedSVD\n",
    "\n",
    "\n",
    "full_df = pd.read_csv(\"../data/input/articles.csv\")\n",
    "full_df.head()"
   ]
  },
  {
   "cell_type": "markdown",
   "id": "b0240d7d-556f-4375-8f16-7e6ebd7ecf89",
   "metadata": {},
   "source": [
    "Initial examination shows the structure of the dataset. From the first 5 rows, we can already see that the topics are quite varied.  "
   ]
  },
  {
   "cell_type": "code",
   "execution_count": 2,
   "id": "171b0790-4e1a-4cad-b37f-2964f136172d",
   "metadata": {},
   "outputs": [
    {
     "data": {
      "text/plain": [
       "(997, 6)"
      ]
     },
     "execution_count": 2,
     "metadata": {},
     "output_type": "execute_result"
    }
   ],
   "source": [
    "full_df.shape"
   ]
  },
  {
   "cell_type": "markdown",
   "id": "a9f61ea3-5471-4310-a08f-ab773cfacc82",
   "metadata": {},
   "source": [
    "There are 997 different articles and six different columns:\n",
    "<ul>\n",
    "    <li><b>Title</b>: article title</li>\n",
    "    <li><b>Intro</b>: introduction</li>\n",
    "    <li><b>Article Content</b>: contents of the article</li>\n",
    "    <li><b>Co-authors</b>: number of authors</li>\n",
    "    <li><b>Updated</b>: the date of the most recent update</li>\n",
    "    <li><b>Views</b>: number of views</li>\n",
    "</ul>\n",
    "Add an <code>Article_Id</code> column to uniquely identify every row:"
   ]
  },
  {
   "cell_type": "code",
   "execution_count": 3,
   "id": "19a87055-2c99-4502-86d4-218c813f0632",
   "metadata": {},
   "outputs": [],
   "source": [
    "full_df[\"Article_Id\"] = full_df.index + 1\n",
    "\n",
    "# reorganize columns, dropping Updated\n",
    "full_df = full_df[[\"Article_Id\", \"Title\", \"Intro\", \"Article Content\", \"Co-authors\", \"Views\"]]"
   ]
  },
  {
   "cell_type": "markdown",
   "id": "ee80a632-546f-4f60-8338-62c07dfaa502",
   "metadata": {},
   "source": [
    "The first stage is to transform the text into the dataframe from human language into something that can be interpreted by a computer.\n",
    "\n",
    "We can simplify the dataset by concatenating <code>Intro</code> to <code>Article Content</code> and naming the resulting column simply <code>Article</code>:"
   ]
  },
  {
   "cell_type": "code",
   "execution_count": 4,
   "id": "0cb54e13-ea0b-4c5b-a55d-75686be5cf4e",
   "metadata": {},
   "outputs": [],
   "source": [
    "full_df[\"Article\"] = full_df[\"Intro\"] +  \" \" + full_df[\"Article Content\"]"
   ]
  },
  {
   "cell_type": "markdown",
   "id": "94735efd-272a-471a-a8ca-89caadc9f496",
   "metadata": {},
   "source": [
    "### Vectorization\n",
    "Vectorization can transform a document into an n-dimensional vector, where n is the number of unique words (or grams) in the corpus. These vectors can simply be the frequency of each word in the document (bag of words approach) or weighted in a way that gives relatively rare words in the corpus more significance when they appear in a particulary document (Term frequency inverse document frequency or tf-idf).\n",
    "\n",
    "Create a new dataframe only containing the article text and titles columns:"
   ]
  },
  {
   "cell_type": "code",
   "execution_count": 5,
   "id": "e907acb9-2785-476e-bf80-88cd85dfa5e0",
   "metadata": {},
   "outputs": [
    {
     "data": {
      "text/html": [
       "<div>\n",
       "<style scoped>\n",
       "    .dataframe tbody tr th:only-of-type {\n",
       "        vertical-align: middle;\n",
       "    }\n",
       "\n",
       "    .dataframe tbody tr th {\n",
       "        vertical-align: top;\n",
       "    }\n",
       "\n",
       "    .dataframe thead th {\n",
       "        text-align: right;\n",
       "    }\n",
       "</style>\n",
       "<table border=\"1\" class=\"dataframe\">\n",
       "  <thead>\n",
       "    <tr style=\"text-align: right;\">\n",
       "      <th></th>\n",
       "      <th>Article_Id</th>\n",
       "      <th>Title</th>\n",
       "      <th>Article</th>\n",
       "    </tr>\n",
       "  </thead>\n",
       "  <tbody>\n",
       "    <tr>\n",
       "      <th>0</th>\n",
       "      <td>1</td>\n",
       "      <td>How to Perform the Tahajjud Prayer</td>\n",
       "      <td>The Tahajjud is a special Islamic night prayer...</td>\n",
       "    </tr>\n",
       "    <tr>\n",
       "      <th>1</th>\n",
       "      <td>2</td>\n",
       "      <td>How to Take a Screenshot on a Windows PC: 8 Si...</td>\n",
       "      <td>Need to take a screenshot on your Windows PC? ...</td>\n",
       "    </tr>\n",
       "    <tr>\n",
       "      <th>2</th>\n",
       "      <td>3</td>\n",
       "      <td>How to Play Poker</td>\n",
       "      <td>\\nLooking to learn basic poker rules? Poker’s ...</td>\n",
       "    </tr>\n",
       "    <tr>\n",
       "      <th>3</th>\n",
       "      <td>4</td>\n",
       "      <td>How to French Kiss</td>\n",
       "      <td>\\nYou've seen it done in the movies and probab...</td>\n",
       "    </tr>\n",
       "    <tr>\n",
       "      <th>4</th>\n",
       "      <td>5</td>\n",
       "      <td>How to Kiss</td>\n",
       "      <td>\\nSo you finally got \"the look\" and you're mov...</td>\n",
       "    </tr>\n",
       "  </tbody>\n",
       "</table>\n",
       "</div>"
      ],
      "text/plain": [
       "   Article_Id                                              Title  \\\n",
       "0           1                 How to Perform the Tahajjud Prayer   \n",
       "1           2  How to Take a Screenshot on a Windows PC: 8 Si...   \n",
       "2           3                                  How to Play Poker   \n",
       "3           4                                 How to French Kiss   \n",
       "4           5                                        How to Kiss   \n",
       "\n",
       "                                             Article  \n",
       "0  The Tahajjud is a special Islamic night prayer...  \n",
       "1  Need to take a screenshot on your Windows PC? ...  \n",
       "2  \\nLooking to learn basic poker rules? Poker’s ...  \n",
       "3  \\nYou've seen it done in the movies and probab...  \n",
       "4  \\nSo you finally got \"the look\" and you're mov...  "
      ]
     },
     "execution_count": 5,
     "metadata": {},
     "output_type": "execute_result"
    }
   ],
   "source": [
    "df_text = full_df.drop(columns=[\"Co-authors\", \"Intro\", \"Article Content\", \"Views\"], axis=1)\n",
    "df_text.head()"
   ]
  },
  {
   "cell_type": "markdown",
   "id": "5ceccae4-c97c-4b27-8220-c3c5d0783032",
   "metadata": {},
   "source": [
    "#### Preprocessing\n",
    "Preprocessing the text is the first step in changing it from unstructured data to a form that can be understood by machine learning algorithms. In this case, preprocessing will consist of three steps: word tokenization, stop word removal and stemming. Each of these steps make up a preprocessing pipeline.\n",
    "\n",
    "##### Tokenization\n",
    "Tokenization is the process of spliting up a piece of text into smaller discrete elements known as tokens. Here, the Natural Language Toolkit (NLTK) word tokenizer is used to split each of the articles into a list of individual words and punctuation."
   ]
  },
  {
   "cell_type": "code",
   "execution_count": 6,
   "id": "c5742585-1165-4979-ac09-bba0c13050b3",
   "metadata": {},
   "outputs": [],
   "source": [
    "article_tokenized = [word_tokenize(t) for t in df_text[\"Article\"]]"
   ]
  },
  {
   "cell_type": "markdown",
   "id": "9ece11b3-27e5-4eff-a444-fff3962d52a3",
   "metadata": {},
   "source": [
    "##### Stop words\n",
    "Stop words are frequently occurring words that provide syntactic structure but contain little lexical meaning such as pronouns or conjunctions. Stop words should be removed to reduce noise and meaningless features in the vectorized data. Stop words are removed using the NLTK list of English stop words."
   ]
  },
  {
   "cell_type": "code",
   "execution_count": 7,
   "id": "f74b3ddb-e3c4-470f-be3c-cd46150ffb66",
   "metadata": {},
   "outputs": [],
   "source": [
    "stop_words = set(stopwords.words('english'))\n",
    "filtered_article = [[t.lower() for t in doc if t.lower() not in stop_words] for doc in article_tokenized]"
   ]
  },
  {
   "cell_type": "markdown",
   "id": "503fc17e-2ed8-473f-bb11-06df654ac5cb",
   "metadata": {},
   "source": [
    "##### Stemming\n",
    "The final step in preprocessing is stemming. Stemming reduces inflected forms of words into their base form (stem) by removing the affixes. Because of how it works, stemming can sometimes result in stems that are not real words (for example, \"babies\" stems to \"babi\"). For this reason stop words are removed before stemming. Another limitation of stemming is that irregular plurals do not get stemmed (for example: \"men\"). Lemmatization reduces words to their lemma form, but it requires parts of speech to be attached to the words.\n",
    "\n",
    "Stem the words with NLTK PorterStemmer:"
   ]
  },
  {
   "cell_type": "code",
   "execution_count": 8,
   "id": "00a60baf-968c-4154-983e-d451792a11d5",
   "metadata": {},
   "outputs": [],
   "source": [
    "stemmer = PorterStemmer()\n",
    "stemmed_article = [[stemmer.stem(t) for t in doc] for doc in filtered_article]"
   ]
  },
  {
   "cell_type": "markdown",
   "id": "3ff823d1-fa1d-4a10-8ecf-bd625a91e225",
   "metadata": {},
   "source": [
    "After preprocessing the text, add it to the dataframe and convert from a list to a string:"
   ]
  },
  {
   "cell_type": "code",
   "execution_count": 9,
   "id": "3b7d2af2-808b-4f47-82a8-f2a6bcd45285",
   "metadata": {},
   "outputs": [],
   "source": [
    "df_text[\"Processed Article\"] = stemmed_article\n",
    "df_text[\"Processed Article\"] = df_text[\"Processed Article\"].apply(lambda x: \" \".join(x))"
   ]
  },
  {
   "cell_type": "markdown",
   "id": "05621bb0-05ad-4c18-ab80-b15129dcb36a",
   "metadata": {},
   "source": [
    "Now that the text has been fully processed, we don't need the original article text.\n",
    "\n",
    "Drop the unprocessed article text, leaving just the Title and Processed Article text, and examine the new columm:"
   ]
  },
  {
   "cell_type": "code",
   "execution_count": 10,
   "id": "4eda829f-1287-43c8-afea-4c03b397fc1c",
   "metadata": {},
   "outputs": [
    {
     "data": {
      "text/html": [
       "<div>\n",
       "<style scoped>\n",
       "    .dataframe tbody tr th:only-of-type {\n",
       "        vertical-align: middle;\n",
       "    }\n",
       "\n",
       "    .dataframe tbody tr th {\n",
       "        vertical-align: top;\n",
       "    }\n",
       "\n",
       "    .dataframe thead th {\n",
       "        text-align: right;\n",
       "    }\n",
       "</style>\n",
       "<table border=\"1\" class=\"dataframe\">\n",
       "  <thead>\n",
       "    <tr style=\"text-align: right;\">\n",
       "      <th></th>\n",
       "      <th>Article_Id</th>\n",
       "      <th>Title</th>\n",
       "      <th>Processed Article</th>\n",
       "    </tr>\n",
       "  </thead>\n",
       "  <tbody>\n",
       "    <tr>\n",
       "      <th>0</th>\n",
       "      <td>1</td>\n",
       "      <td>How to Perform the Tahajjud Prayer</td>\n",
       "      <td>tahajjud special islam night prayer recommend ...</td>\n",
       "    </tr>\n",
       "    <tr>\n",
       "      <th>1</th>\n",
       "      <td>2</td>\n",
       "      <td>How to Take a Screenshot on a Windows PC: 8 Si...</td>\n",
       "      <td>need take screenshot window pc ? whether want ...</td>\n",
       "    </tr>\n",
       "    <tr>\n",
       "      <th>2</th>\n",
       "      <td>3</td>\n",
       "      <td>How to Play Poker</td>\n",
       "      <td>look learn basic poker rule ? poker ’ incred p...</td>\n",
       "    </tr>\n",
       "    <tr>\n",
       "      <th>3</th>\n",
       "      <td>4</td>\n",
       "      <td>How to French Kiss</td>\n",
       "      <td>'ve seen done movi probabl even public—th fren...</td>\n",
       "    </tr>\n",
       "    <tr>\n",
       "      <th>4</th>\n",
       "      <td>5</td>\n",
       "      <td>How to Kiss</td>\n",
       "      <td>final got `` look '' 're move killer kiss dawn...</td>\n",
       "    </tr>\n",
       "  </tbody>\n",
       "</table>\n",
       "</div>"
      ],
      "text/plain": [
       "   Article_Id                                              Title  \\\n",
       "0           1                 How to Perform the Tahajjud Prayer   \n",
       "1           2  How to Take a Screenshot on a Windows PC: 8 Si...   \n",
       "2           3                                  How to Play Poker   \n",
       "3           4                                 How to French Kiss   \n",
       "4           5                                        How to Kiss   \n",
       "\n",
       "                                   Processed Article  \n",
       "0  tahajjud special islam night prayer recommend ...  \n",
       "1  need take screenshot window pc ? whether want ...  \n",
       "2  look learn basic poker rule ? poker ’ incred p...  \n",
       "3  've seen done movi probabl even public—th fren...  \n",
       "4  final got `` look '' 're move killer kiss dawn...  "
      ]
     },
     "execution_count": 10,
     "metadata": {},
     "output_type": "execute_result"
    }
   ],
   "source": [
    "df_text = df_text.drop(columns=\"Article\", axis=1)\n",
    "df_text.head()"
   ]
  },
  {
   "cell_type": "markdown",
   "id": "907f9d98-e855-4eaa-92cd-bd19e2482279",
   "metadata": {},
   "source": [
    "### TF-IDF\n",
    "**TF-IDF** (or Term Frequency-Inverse Document Frequency) is a measure of how important a word is in a document in a corpus (a collection of documents). It is a combination of the **Term Frequency**, how often a word appears in a given document, and the **Inverse Document Frequency**, how rare a word is in the corpus as a whole. Term Frequency is multiplied by Inverse Document Frequency to give a final score for each word. This techique is useful because it emphasises the differences between the articles in a corpus that may share significant amounts of vocabulary.\n",
    "\n",
    "Vectorize <code>Processed Article</code> using sklearn's tf-idf vectorizer. The parameters are set to include single words and also common pairs of words (n-grams of 1 and 2). This allows collocations and other pairs of words that may have different semantics when taken separately (for example, phrasal verbs). Furthermore, any gram with a low or high relative frequency will be excluded. This will help to reduce the number of features and noise in the model. Punctuation will automatically be filtered out. The TF-IDF vectorizer fits to the data and transforms it in one step."
   ]
  },
  {
   "cell_type": "code",
   "execution_count": 11,
   "id": "42dfc832-03de-49db-a6bb-bc7b118718d6",
   "metadata": {},
   "outputs": [],
   "source": [
    "vectorizer_article = TfidfVectorizer(ngram_range=(1,2), min_df=0.1, max_df=0.95)\n",
    "tfidf_article = vectorizer_article.fit_transform(df_text[\"Processed Article\"])"
   ]
  },
  {
   "cell_type": "code",
   "execution_count": 12,
   "id": "861c1524-fe92-4967-bc02-b43fbffd3286",
   "metadata": {},
   "outputs": [
    {
     "name": "stdout",
     "output_type": "stream",
     "text": [
      "False\n"
     ]
    }
   ],
   "source": [
    "print(\"and\" in df_text[\"Processed Article\"])"
   ]
  },
  {
   "cell_type": "markdown",
   "id": "077fa606-c079-4e82-9aa5-ab653f42a8ec",
   "metadata": {},
   "source": [
    "Create a dataframe using the generated tf-idf matrix with the feature names as the columns:"
   ]
  },
  {
   "cell_type": "code",
   "execution_count": 13,
   "id": "d22822c7-8ff4-4794-920c-5199b1383220",
   "metadata": {},
   "outputs": [],
   "source": [
    "article_features = vectorizer_article.get_feature_names_out()\n",
    "vect_article_df = pd.DataFrame(tfidf_article.toarray(), columns=article_features)"
   ]
  },
  {
   "cell_type": "markdown",
   "id": "e290a753-11ca-4972-b327-79dbf305a9e2",
   "metadata": {},
   "source": [
    "This creates the vectorised article dataframe containing 713 features and 997 rows each corresponding to the original articles.\n",
    "\n",
    "We can briefly examine this dataframe:"
   ]
  },
  {
   "cell_type": "code",
   "execution_count": 14,
   "id": "bd2d49d4-b14f-4992-ab7c-bcf93d7fffb4",
   "metadata": {},
   "outputs": [
    {
     "data": {
      "text/html": [
       "<div>\n",
       "<style scoped>\n",
       "    .dataframe tbody tr th:only-of-type {\n",
       "        vertical-align: middle;\n",
       "    }\n",
       "\n",
       "    .dataframe tbody tr th {\n",
       "        vertical-align: top;\n",
       "    }\n",
       "\n",
       "    .dataframe thead th {\n",
       "        text-align: right;\n",
       "    }\n",
       "</style>\n",
       "<table border=\"1\" class=\"dataframe\">\n",
       "  <thead>\n",
       "    <tr style=\"text-align: right;\">\n",
       "      <th></th>\n",
       "      <th>10</th>\n",
       "      <th>100</th>\n",
       "      <th>12</th>\n",
       "      <th>15</th>\n",
       "      <th>20</th>\n",
       "      <th>30</th>\n",
       "      <th>abl</th>\n",
       "      <th>access</th>\n",
       "      <th>account</th>\n",
       "      <th>across</th>\n",
       "      <th>...</th>\n",
       "      <th>work</th>\n",
       "      <th>world</th>\n",
       "      <th>worri</th>\n",
       "      <th>would</th>\n",
       "      <th>wrap</th>\n",
       "      <th>write</th>\n",
       "      <th>wrong</th>\n",
       "      <th>www</th>\n",
       "      <th>year</th>\n",
       "      <th>yet</th>\n",
       "    </tr>\n",
       "  </thead>\n",
       "  <tbody>\n",
       "    <tr>\n",
       "      <th>0</th>\n",
       "      <td>0.000000</td>\n",
       "      <td>0.000000</td>\n",
       "      <td>0.0</td>\n",
       "      <td>0.0</td>\n",
       "      <td>0.000000</td>\n",
       "      <td>0.019086</td>\n",
       "      <td>0.045500</td>\n",
       "      <td>0.000000</td>\n",
       "      <td>0.0</td>\n",
       "      <td>0.00000</td>\n",
       "      <td>...</td>\n",
       "      <td>0.036421</td>\n",
       "      <td>0.000000</td>\n",
       "      <td>0.044704</td>\n",
       "      <td>0.017088</td>\n",
       "      <td>0.000000</td>\n",
       "      <td>0.000000</td>\n",
       "      <td>0.000000</td>\n",
       "      <td>0.000000</td>\n",
       "      <td>0.0</td>\n",
       "      <td>0.000000</td>\n",
       "    </tr>\n",
       "    <tr>\n",
       "      <th>1</th>\n",
       "      <td>0.028565</td>\n",
       "      <td>0.008783</td>\n",
       "      <td>0.0</td>\n",
       "      <td>0.0</td>\n",
       "      <td>0.000000</td>\n",
       "      <td>0.012485</td>\n",
       "      <td>0.000000</td>\n",
       "      <td>0.008471</td>\n",
       "      <td>0.0</td>\n",
       "      <td>0.00000</td>\n",
       "      <td>...</td>\n",
       "      <td>0.003971</td>\n",
       "      <td>0.000000</td>\n",
       "      <td>0.000000</td>\n",
       "      <td>0.005589</td>\n",
       "      <td>0.000000</td>\n",
       "      <td>0.000000</td>\n",
       "      <td>0.000000</td>\n",
       "      <td>0.008979</td>\n",
       "      <td>0.0</td>\n",
       "      <td>0.000000</td>\n",
       "    </tr>\n",
       "    <tr>\n",
       "      <th>2</th>\n",
       "      <td>0.040439</td>\n",
       "      <td>0.000000</td>\n",
       "      <td>0.0</td>\n",
       "      <td>0.0</td>\n",
       "      <td>0.020505</td>\n",
       "      <td>0.017675</td>\n",
       "      <td>0.014046</td>\n",
       "      <td>0.000000</td>\n",
       "      <td>0.0</td>\n",
       "      <td>0.00000</td>\n",
       "      <td>...</td>\n",
       "      <td>0.000000</td>\n",
       "      <td>0.000000</td>\n",
       "      <td>0.000000</td>\n",
       "      <td>0.039562</td>\n",
       "      <td>0.000000</td>\n",
       "      <td>0.000000</td>\n",
       "      <td>0.000000</td>\n",
       "      <td>0.000000</td>\n",
       "      <td>0.0</td>\n",
       "      <td>0.024542</td>\n",
       "    </tr>\n",
       "    <tr>\n",
       "      <th>3</th>\n",
       "      <td>0.000000</td>\n",
       "      <td>0.000000</td>\n",
       "      <td>0.0</td>\n",
       "      <td>0.0</td>\n",
       "      <td>0.014371</td>\n",
       "      <td>0.012388</td>\n",
       "      <td>0.019688</td>\n",
       "      <td>0.016810</td>\n",
       "      <td>0.0</td>\n",
       "      <td>0.00000</td>\n",
       "      <td>...</td>\n",
       "      <td>0.007880</td>\n",
       "      <td>0.017669</td>\n",
       "      <td>0.029015</td>\n",
       "      <td>0.011091</td>\n",
       "      <td>0.014851</td>\n",
       "      <td>0.014591</td>\n",
       "      <td>0.017718</td>\n",
       "      <td>0.000000</td>\n",
       "      <td>0.0</td>\n",
       "      <td>0.000000</td>\n",
       "    </tr>\n",
       "    <tr>\n",
       "      <th>4</th>\n",
       "      <td>0.000000</td>\n",
       "      <td>0.000000</td>\n",
       "      <td>0.0</td>\n",
       "      <td>0.0</td>\n",
       "      <td>0.000000</td>\n",
       "      <td>0.000000</td>\n",
       "      <td>0.031923</td>\n",
       "      <td>0.000000</td>\n",
       "      <td>0.0</td>\n",
       "      <td>0.03101</td>\n",
       "      <td>...</td>\n",
       "      <td>0.008518</td>\n",
       "      <td>0.038200</td>\n",
       "      <td>0.015682</td>\n",
       "      <td>0.011989</td>\n",
       "      <td>0.000000</td>\n",
       "      <td>0.015773</td>\n",
       "      <td>0.000000</td>\n",
       "      <td>0.000000</td>\n",
       "      <td>0.0</td>\n",
       "      <td>0.018593</td>\n",
       "    </tr>\n",
       "  </tbody>\n",
       "</table>\n",
       "<p>5 rows × 713 columns</p>\n",
       "</div>"
      ],
      "text/plain": [
       "         10       100   12   15        20        30       abl    access  \\\n",
       "0  0.000000  0.000000  0.0  0.0  0.000000  0.019086  0.045500  0.000000   \n",
       "1  0.028565  0.008783  0.0  0.0  0.000000  0.012485  0.000000  0.008471   \n",
       "2  0.040439  0.000000  0.0  0.0  0.020505  0.017675  0.014046  0.000000   \n",
       "3  0.000000  0.000000  0.0  0.0  0.014371  0.012388  0.019688  0.016810   \n",
       "4  0.000000  0.000000  0.0  0.0  0.000000  0.000000  0.031923  0.000000   \n",
       "\n",
       "   account   across  ...      work     world     worri     would      wrap  \\\n",
       "0      0.0  0.00000  ...  0.036421  0.000000  0.044704  0.017088  0.000000   \n",
       "1      0.0  0.00000  ...  0.003971  0.000000  0.000000  0.005589  0.000000   \n",
       "2      0.0  0.00000  ...  0.000000  0.000000  0.000000  0.039562  0.000000   \n",
       "3      0.0  0.00000  ...  0.007880  0.017669  0.029015  0.011091  0.014851   \n",
       "4      0.0  0.03101  ...  0.008518  0.038200  0.015682  0.011989  0.000000   \n",
       "\n",
       "      write     wrong       www  year       yet  \n",
       "0  0.000000  0.000000  0.000000   0.0  0.000000  \n",
       "1  0.000000  0.000000  0.008979   0.0  0.000000  \n",
       "2  0.000000  0.000000  0.000000   0.0  0.024542  \n",
       "3  0.014591  0.017718  0.000000   0.0  0.000000  \n",
       "4  0.015773  0.000000  0.000000   0.0  0.018593  \n",
       "\n",
       "[5 rows x 713 columns]"
      ]
     },
     "execution_count": 14,
     "metadata": {},
     "output_type": "execute_result"
    }
   ],
   "source": [
    "vect_article_df.head()"
   ]
  },
  {
   "cell_type": "markdown",
   "id": "85527be8-0089-4fcf-854f-b7302454598a",
   "metadata": {},
   "source": [
    "### Truncated SVD\n",
    "SVD (Single Value Decomposition) is a technique that can reduce the dimensionality of a sparse (where most elements are zero) tf-idf matrix, like the one we have created. It works by decomposing the matrix into three component matrices thereby reducing the dimensionality while preserving the most important features. This reduces noise and improves the efficiency of subsequent machine learning algorithms such as k-means clustering. By applying SVD to the tf-idf matrix, we can obtain a lower-dimensional representation that captures the essential information needed for clustering.\n",
    "\n",
    "\n",
    "\n",
    "**Note:** SVD can also be used directly for topic modelling where the number of topic corresponds to the number of components. Articles can then be assigned a topic (or potentially more) based on the SVD component (or components) they score highest in. Topic names can be determined by looking at the terms with the highest weights for each component. This is similar to the workflow for non-negative matrix factorization (NMF). However, in this case where the number of topics is still unknown, SVD is used as a means to reduce the dimensionality of the matrix in preparation for k-means clustering in a similar way to principal component analysis (PCA).\n",
    "\n",
    "#### Number of components\n",
    "Reducing the dimensionality of a matrix with SVD also reduces the amount of explained variance. For most purposes, an explained variance of about 80 to 90% is adequate. Plot the amount of explained variance against the number of components to determine how many components are necessary.\n"
   ]
  },
  {
   "cell_type": "code",
   "execution_count": 15,
   "id": "2f48486b-c9ba-4b29-bb83-2f001ee6a190",
   "metadata": {},
   "outputs": [],
   "source": [
    "svd = TruncatedSVD(n_components=713, random_state=2)\n",
    "svd_matrix = svd.fit_transform(vect_article_df)\n",
    "\n",
    "explained_variance = svd.explained_variance_ratio_\n",
    "cumulative_variance = np.cumsum(explained_variance)"
   ]
  },
  {
   "cell_type": "code",
   "execution_count": 16,
   "id": "a322305c-41b3-41b8-a240-1ff906947559",
   "metadata": {},
   "outputs": [
    {
     "data": {
      "image/png": "[encoded data removed]",
      "text/plain": [
       "<Figure size 640x480 with 1 Axes>"
      ]
     },
     "metadata": {},
     "output_type": "display_data"
    }
   ],
   "source": [
    "fig, ax = plt.subplots()\n",
    "x = range(1, 714)\n",
    "ax.plot(x, cumulative_variance)\n",
    "ax.set(\n",
    "        title=\"Cumulative explained variance ratio vs. number of components\",\n",
    "        xlabel=\"Number of components\",\n",
    "        ylabel=\"Cumulative explained variance ratio\",\n",
    "      )\n",
    "ax.plot(x, np.ones_like(x) * 0.8, \"--\", color=\"black\", alpha=0.5)\n",
    "ax.plot(x, np.ones_like(x) * 0.9, \"--\", color=\"black\", alpha=0.5)\n",
    "ax.grid()\n",
    "plt.show()"
   ]
  },
  {
   "cell_type": "markdown",
   "id": "c6846e15-1cce-4871-b476-abc2106055c1",
   "metadata": {},
   "source": [
    "From the graph above, the desired interval of 80-90% of cumulative explained variance is found at between 180 and 280 components. After this point, explained variance levels off. When 194 components are chose, 81.9% of the variance is explained. This greatly reduces the features in the dataset while preserving a large proprotion of explained variance."
   ]
  },
  {
   "cell_type": "code",
   "execution_count": 17,
   "id": "1338082a-c83a-4a8e-9ad4-36b37f96beb5",
   "metadata": {},
   "outputs": [
    {
     "data": {
      "text/plain": [
       "(997, 194)"
      ]
     },
     "execution_count": 17,
     "metadata": {},
     "output_type": "execute_result"
    }
   ],
   "source": [
    "svd = TruncatedSVD(n_components=194, random_state=2)\n",
    "svd_matrix = svd.fit_transform(vect_article_df)\n",
    "svd_matrix.shape"
   ]
  },
  {
   "cell_type": "markdown",
   "id": "45c3986c-19e7-4eaf-bbf7-15caf13eb722",
   "metadata": {},
   "source": [
    "Using SVD, we have reduced the number of features in the dataset from 713 to 194 while still conserving over 82% of the explained variance. This reduction in dimension will improve the efficiency for the next stages."
   ]
  },
  {
   "cell_type": "markdown",
   "id": "e3d8bcdb-52a9-4b3c-98fa-708446039aba",
   "metadata": {},
   "source": [
    "### Summary\n",
    "\n",
    "In the first stage of this project, we:\n",
    "<ul>\n",
    "    <li>Imported the original Wikihow data.</li>\n",
    "    <li>Preprocessed the text by tokenizing, removing stop words, and stemming.</li>\n",
    "    <li>Calculated the TF-IDF for each article in the dataset.</li>\n",
    "    <li>Reduced the dimensions with Truncated-SVD</li>\n",
    "</ul>\n",
    "\n",
    "Finally export the required datasets for the next parts:"
   ]
  },
  {
   "cell_type": "code",
   "execution_count": 18,
   "id": "bf3a4838-8349-4961-92f2-4e65081d67d0",
   "metadata": {},
   "outputs": [],
   "source": [
    "np.save(\"../data/models/svd_matrix.npy\", svd_matrix)\n",
    "full_df.to_csv(\"../data/interrim/01_modified_df.csv\", index=False)\n",
    "vect_article_df.to_csv(\"../data/models/vector_articles.csv\", index=False)"
   ]
  },
  {
   "cell_type": "markdown",
   "id": "9d075270-4e40-48d7-bfa5-64797e719631",
   "metadata": {},
   "source": [
    "In the next part of the project, we use clustering algorithms to group the articles into distinct topics.\n"
   ]
  },
  {
   "cell_type": "markdown",
   "id": "97565a68-d96f-4119-9688-c31ebdcf021d",
   "metadata": {},
   "source": [
    "### Navigation\n",
    "**Previous book**: None\n",
    "\n",
    "**Next book**: <a href='./02_clustering.ipynb'>[Clustering]</a>"
   ]
  }
 ],
 "metadata": {
  "kernelspec": {
   "display_name": "Python 3 (ipykernel)",
   "language": "python",
   "name": "python3"
  },
  "language_info": {
   "codemirror_mode": {
    "name": "ipython",
    "version": 3
   },
   "file_extension": ".py",
   "mimetype": "text/x-python",
   "name": "python",
   "nbconvert_exporter": "python",
   "pygments_lexer": "ipython3",
   "version": "3.10.11"
  }
 },
 "nbformat": 4,
 "nbformat_minor": 5
}
